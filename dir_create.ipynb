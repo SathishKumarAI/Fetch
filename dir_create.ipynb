{
 "cells": [
  {
   "cell_type": "markdown",
   "metadata": {},
   "source": []
  },
  {
   "cell_type": "code",
   "execution_count": 6,
   "metadata": {},
   "outputs": [],
   "source": [
    "from pathlib import Path\n",
    "from datetime import datetime\n",
    "import yaml\n",
    "import json\n",
    "import logging\n",
    "from rich.logging import RichHandler\n",
    "from rich.console import Console\n",
    "from typing import List, Dict\n",
    "# Create a new project directory and move README.md there\n",
    "project_dir = Path(r\"C:\\Users\\devil\\Documents\\Projects\\Fetch\")\n",
    "project_dir.mkdir(exist_ok=True)\n",
    "\n"
   ]
  },
  {
   "cell_type": "code",
   "execution_count": 6,
   "metadata": {},
   "outputs": [
    {
     "name": "stdout",
     "output_type": "stream",
     "text": [
      "Requirement already satisfied: uv in c:\\users\\devil\\.conda\\envs\\test\\lib\\site-packages (0.6.13)\n"
     ]
    }
   ],
   "source": [
    "# conda env create -f environment.yml\n",
    "# conda activate pickleball_llm\n",
    "! pip install uv\n",
    "# ! uv --version\n",
    "\n"
   ]
  },
  {
   "cell_type": "code",
   "execution_count": 10,
   "metadata": {},
   "outputs": [
    {
     "name": "stderr",
     "output_type": "stream",
     "text": [
      "\u001b[2mUsing Python 3.11.11 environment at: C:\\Users\\devil\\.conda\\envs\\test\u001b[0m\n",
      "\u001b[2mResolved \u001b[1m88 packages\u001b[0m \u001b[2min 6.05s\u001b[0m\u001b[0m\n",
      "   \u001b[36m\u001b[1mBuilding\u001b[0m\u001b[39m ml-apprentice-project\u001b[2m @ file:///C:/Users/devil/Documents/Projects/Fetch\u001b[0m\n",
      "\u001b[36m\u001b[1mDownloading\u001b[0m\u001b[39m pywin32 \u001b[2m(9.1MiB)\u001b[0m\n",
      "\u001b[36m\u001b[1mDownloading\u001b[0m\u001b[39m mlflow \u001b[2m(26.9MiB)\u001b[0m\n",
      "\u001b[36m\u001b[1mDownloading\u001b[0m\u001b[39m mlflow-skinny \u001b[2m(5.9MiB)\u001b[0m\n",
      " \u001b[32m\u001b[1mDownloaded\u001b[0m\u001b[39m pywin32\n",
      " \u001b[32m\u001b[1mDownloaded\u001b[0m\u001b[39m mlflow-skinny\n",
      "  \u001b[31m×\u001b[0m Failed to build `ml-apprentice-project @\n",
      "  \u001b[31m│\u001b[0m file:///C:/Users/devil/Documents/Projects/Fetch`\n",
      "\u001b[31m  ├─▶ \u001b[0mThe build backend returned an error\n",
      "\u001b[31m  ╰─▶ \u001b[0mCall to `setuptools.build_meta.build_wheel` failed (exit code: 1)\n",
      "\n",
      "\u001b[31m      \u001b[0m\u001b[31m[stderr]\u001b[39m\n",
      "\u001b[31m      \u001b[0mTraceback (most recent call last):\n",
      "\u001b[31m      \u001b[0m  File \"<string>\", line 11, in <module>\n",
      "\u001b[31m      \u001b[0m  File\n",
      "\u001b[31m      \u001b[0m\"C:\\Users\\devil\\AppData\\Local\\uv\\cache\\builds-v0\\.tmpZnR2yw\\Lib\\site-packages\\setuptools\\build_meta.py\",\n",
      "\u001b[31m      \u001b[0mline 435, in build_wheel\n",
      "\u001b[31m      \u001b[0m    return _build(['bdist_wheel'])\n",
      "\u001b[31m      \u001b[0m           ^^^^^^^^^^^^^^^^^^^^^^^\n",
      "\u001b[31m      \u001b[0m  File\n",
      "\u001b[31m      \u001b[0m\"C:\\Users\\devil\\AppData\\Local\\uv\\cache\\builds-v0\\.tmpZnR2yw\\Lib\\site-packages\\setuptools\\build_meta.py\",\n",
      "\u001b[31m      \u001b[0mline 426, in _build\n",
      "\u001b[31m      \u001b[0m    return self._build_with_temp_dir(\n",
      "\u001b[31m      \u001b[0m           ^^^^^^^^^^^^^^^^^^^^^^^^^^\n",
      "\u001b[31m      \u001b[0m  File\n",
      "\u001b[31m      \u001b[0m\"C:\\Users\\devil\\AppData\\Local\\uv\\cache\\builds-v0\\.tmpZnR2yw\\Lib\\site-packages\\setuptools\\build_meta.py\",\n",
      "\u001b[31m      \u001b[0mline 409, in _build_with_temp_dir\n",
      "\u001b[31m      \u001b[0m    result_basename = _file_with_extension(tmp_dist_dir,\n",
      "\u001b[31m      \u001b[0mresult_extension)\n",
      "\u001b[31m      \u001b[0m                      ^^^^^^^^^^^^^^^^^^^^^^^^^^^^^^^^^^^^^^^^^^^^^^^^^^^^\n",
      "\u001b[31m      \u001b[0m  File\n",
      "\u001b[31m      \u001b[0m\"C:\\Users\\devil\\AppData\\Local\\uv\\cache\\builds-v0\\.tmpZnR2yw\\Lib\\site-packages\\setuptools\\build_meta.py\",\n",
      "\u001b[31m      \u001b[0mline 128, in _file_with_extension\n",
      "\u001b[31m      \u001b[0m    raise ValueError(\n",
      "\u001b[31m      \u001b[0mValueError: No distribution was found. Ensure that `setup.py` is not\n",
      "\u001b[31m      \u001b[0mempty and that it calls `setup()`.\n",
      "\n",
      "\u001b[31m      \u001b[0m\u001b[36m\u001b[1mhint\u001b[0m\u001b[39m\u001b[1m:\u001b[0m This usually indicates a problem with the package or the build\n",
      "\u001b[31m      \u001b[0menvironment.\n"
     ]
    }
   ],
   "source": [
    "# uv pip install -r requirements.txt\n",
    "# # or\n",
    "# ! uv pip install .\n",
    "! uv pip install \"C:\\Users\\devil\\Documents\\Projects\\Fetch\"\n"
   ]
  },
  {
   "cell_type": "code",
   "execution_count": 9,
   "metadata": {},
   "outputs": [
    {
     "name": "stderr",
     "output_type": "stream",
     "text": [
      "\u001b[2mUsing Python 3.11.11 environment at: C:\\Users\\devil\\.conda\\envs\\test\u001b[0m\n"
     ]
    }
   ],
   "source": [
    "! uv pip freeze > requirements.lock.txt\n"
   ]
  },
  {
   "cell_type": "code",
   "execution_count": 10,
   "metadata": {},
   "outputs": [
    {
     "name": "stderr",
     "output_type": "stream",
     "text": [
      "\u001b[1m\u001b[31merror\u001b[39m\u001b[0m: File not found: `requirements.txt`\n"
     ]
    }
   ],
   "source": [
    "# ! uv pip install -r requirements.txt\n",
    "# "
   ]
  },
  {
   "cell_type": "code",
   "execution_count": null,
   "metadata": {},
   "outputs": [
    {
     "name": "stdout",
     "output_type": "stream",
     "text": [
      "Collecting rich"
     ]
    },
    {
     "name": "stderr",
     "output_type": "stream",
     "text": [
      "\n",
      "[notice] A new release of pip is available: 23.2.1 -> 25.0.1\n",
      "[notice] To update, run: C:\\Users\\devil\\AppData\\Local\\Programs\\Python\\Python311\\python.exe -m pip install --upgrade pip\n"
     ]
    },
    {
     "name": "stdout",
     "output_type": "stream",
     "text": [
      "\n",
      "  Obtaining dependency information for rich from https://files.pythonhosted.org/packages/0d/9b/63f4c7ebc259242c89b3acafdb37b41d1185c07ff0011164674e9076b491/rich-14.0.0-py3-none-any.whl.metadata\n",
      "  Downloading rich-14.0.0-py3-none-any.whl.metadata (18 kB)\n",
      "Collecting markdown-it-py>=2.2.0 (from rich)\n",
      "  Obtaining dependency information for markdown-it-py>=2.2.0 from https://files.pythonhosted.org/packages/42/d7/1ec15b46af6af88f19b8e5ffea08fa375d433c998b8a7639e76935c14f1f/markdown_it_py-3.0.0-py3-none-any.whl.metadata\n",
      "  Downloading markdown_it_py-3.0.0-py3-none-any.whl.metadata (6.9 kB)\n",
      "Requirement already satisfied: pygments<3.0.0,>=2.13.0 in c:\\users\\devil\\appdata\\roaming\\python\\python311\\site-packages (from rich) (2.18.0)\n",
      "Collecting mdurl~=0.1 (from markdown-it-py>=2.2.0->rich)\n",
      "  Obtaining dependency information for mdurl~=0.1 from https://files.pythonhosted.org/packages/b3/38/89ba8ad64ae25be8de66a6d463314cf1eb366222074cfda9ee839c56a4b4/mdurl-0.1.2-py3-none-any.whl.metadata\n",
      "  Downloading mdurl-0.1.2-py3-none-any.whl.metadata (1.6 kB)\n",
      "Downloading rich-14.0.0-py3-none-any.whl (243 kB)\n",
      "   ---------------------------------------- 0.0/243.2 kB ? eta -:--:--\n",
      "   ------------------------- -------------- 153.6/243.2 kB 3.1 MB/s eta 0:00:01\n",
      "   ---------------------------------------- 243.2/243.2 kB 3.0 MB/s eta 0:00:00\n",
      "Downloading markdown_it_py-3.0.0-py3-none-any.whl (87 kB)\n",
      "   ---------------------------------------- 0.0/87.5 kB ? eta -:--:--\n",
      "   ---------------------------------------- 87.5/87.5 kB ? eta 0:00:00\n",
      "Downloading mdurl-0.1.2-py3-none-any.whl (10.0 kB)\n",
      "Installing collected packages: mdurl, markdown-it-py, rich\n",
      "Successfully installed markdown-it-py-3.0.0 mdurl-0.1.2 rich-14.0.0\n"
     ]
    }
   ],
   "source": [
    "! pip install rich"
   ]
  },
  {
   "cell_type": "code",
   "execution_count": 4,
   "metadata": {},
   "outputs": [],
   "source": [
    "DEFAULT_YAML_FILE = \"project_structure.yaml\"\n",
    "DEFAULT_RESULT_OUTPUT = \"creation_result.json\""
   ]
  },
  {
   "cell_type": "code",
   "execution_count": 7,
   "metadata": {},
   "outputs": [
    {
     "data": {
      "text/html": [
       "<pre style=\"white-space:pre;overflow-x:auto;line-height:normal;font-family:Menlo,'DejaVu Sans Mono',consolas,'Courier New',monospace\"><span style=\"color: #7fbfbf; text-decoration-color: #7fbfbf\">[18:10:55] </span><span style=\"color: #000080; text-decoration-color: #000080\">INFO    </span> <span style=\"font-weight: bold\">[</span>green<span style=\"font-weight: bold\">]</span>Summary saved to creation_result.json<span style=\"font-weight: bold\">[</span><span style=\"color: #800080; text-decoration-color: #800080\">/</span><span style=\"color: #ff00ff; text-decoration-color: #ff00ff\">green</span><span style=\"font-weight: bold\">]</span>                           <a href=\"file://C:\\Users\\devil\\AppData\\Local\\Temp\\ipykernel_9980\\4209271769.py\" target=\"_blank\"><span style=\"color: #7f7f7f; text-decoration-color: #7f7f7f\">4209271769.py</span></a><span style=\"color: #7f7f7f; text-decoration-color: #7f7f7f\">:</span><a href=\"file://C:\\Users\\devil\\AppData\\Local\\Temp\\ipykernel_9980\\4209271769.py#53\" target=\"_blank\"><span style=\"color: #7f7f7f; text-decoration-color: #7f7f7f\">53</span></a>\n",
       "</pre>\n"
      ],
      "text/plain": [
       "\u001b[2;36m[18:10:55]\u001b[0m\u001b[2;36m \u001b[0m\u001b[34mINFO    \u001b[0m \u001b[1m[\u001b[0mgreen\u001b[1m]\u001b[0mSummary saved to creation_result.json\u001b[1m[\u001b[0m\u001b[35m/\u001b[0m\u001b[95mgreen\u001b[0m\u001b[1m]\u001b[0m                           \u001b]8;id=810368;file://C:\\Users\\devil\\AppData\\Local\\Temp\\ipykernel_9980\\4209271769.py\u001b\\\u001b[2m4209271769.py\u001b[0m\u001b]8;;\u001b\\\u001b[2m:\u001b[0m\u001b]8;id=663052;file://C:\\Users\\devil\\AppData\\Local\\Temp\\ipykernel_9980\\4209271769.py#53\u001b\\\u001b[2m53\u001b[0m\u001b]8;;\u001b\\\n"
      ]
     },
     "metadata": {},
     "output_type": "display_data"
    }
   ],
   "source": [
    "\n",
    "# Setup rich logger\n",
    "console = Console()\n",
    "logging.basicConfig(\n",
    "    level=logging.INFO,\n",
    "    format=\"%(message)s\",\n",
    "    datefmt=\"[%X]\",\n",
    "    handlers=[RichHandler(rich_tracebacks=True)]\n",
    ")\n",
    "logger = logging.getLogger(\"project_builder\")\n",
    "\n",
    "\n",
    "def load_yaml(yaml_path: str) -> Dict:\n",
    "    \"\"\"Load a YAML file and return its content as a dictionary.\"\"\"\n",
    "    try:\n",
    "        with open(yaml_path, \"r\") as file:\n",
    "            return yaml.safe_load(file)\n",
    "    except Exception as e:\n",
    "        logger.exception(\"Failed to load YAML file.\")\n",
    "        raise\n",
    "\n",
    "\n",
    "def create_file(path: Path, created: List[str], skipped: List[str], errors: List[Dict[str, str]]) -> None:\n",
    "    \"\"\"Create a file if it doesn't exist.\"\"\"\n",
    "    try:\n",
    "        if path.exists():\n",
    "            skipped.append(str(path))\n",
    "        else:\n",
    "            path.parent.mkdir(parents=True, exist_ok=True)\n",
    "            path.touch()\n",
    "            created.append(str(path))\n",
    "    except Exception as e:\n",
    "        errors.append({\"file\": str(path), \"error\": str(e)})\n",
    "\n",
    "\n",
    "def process_structure(base_path: Path, structure, created: List[str], skipped: List[str], errors: List[Dict[str, str]]) -> None:\n",
    "    \"\"\"Recursively process the structure and create files.\"\"\"\n",
    "    if isinstance(structure, list):\n",
    "        for item in structure:\n",
    "            if isinstance(item, str):\n",
    "                create_file(base_path / item, created, skipped, errors)\n",
    "            elif isinstance(item, dict):\n",
    "                for k, v in item.items():\n",
    "                    process_structure(base_path / k, v, created, skipped, errors)\n",
    "    elif isinstance(structure, dict):\n",
    "        for k, v in structure.items():\n",
    "            process_structure(base_path / k, v, created, skipped, errors)\n",
    "\n",
    "\n",
    "def save_json(data: Dict, output_path: str) -> None:\n",
    "    \"\"\"Save a dictionary to a JSON file.\"\"\"\n",
    "    try:\n",
    "        Path(output_path).write_text(json.dumps(data, indent=2))\n",
    "        logger.info(f\"[green]Summary saved to {output_path}[/green]\")\n",
    "    except Exception as e:\n",
    "        logger.error(f\"[red]Failed to write summary: {e}[/red]\")\n",
    "\n",
    "\n",
    "def build_project_from_yaml(yaml_file: str = DEFAULT_YAML_FILE, result_output: str = DEFAULT_RESULT_OUTPUT) -> None:\n",
    "    \"\"\"Build the project directory and file structure from YAML.\"\"\"\n",
    "    try:\n",
    "        yaml_content = load_yaml(yaml_file)\n",
    "        structure = yaml_content.get(\"project\", {}).get(\"structure\", {})\n",
    "    except Exception:\n",
    "        logger.error(\"[bold red]YAML parsing failed. Exiting.[/bold red]\")\n",
    "        return\n",
    "\n",
    "    created, skipped, errors = [], [], []\n",
    "    process_structure(Path(\".\"), structure, created, skipped, errors)\n",
    "\n",
    "    result = {\n",
    "        \"timestamp\": datetime.now().isoformat(),\n",
    "        \"created\": created,\n",
    "        \"skipped\": skipped,\n",
    "        \"errors\": errors,\n",
    "    }\n",
    "\n",
    "    save_json(result, result_output)\n",
    "\n",
    "\n",
    "# Entry point\n",
    "if __name__ == \"__main__\":\n",
    "    build_project_from_yaml()\n"
   ]
  },
  {
   "cell_type": "code",
   "execution_count": null,
   "metadata": {},
   "outputs": [],
   "source": []
  }
 ],
 "metadata": {
  "kernelspec": {
   "display_name": "Python 3",
   "language": "python",
   "name": "python3"
  },
  "language_info": {
   "codemirror_mode": {
    "name": "ipython",
    "version": 3
   },
   "file_extension": ".py",
   "mimetype": "text/x-python",
   "name": "python",
   "nbconvert_exporter": "python",
   "pygments_lexer": "ipython3",
   "version": "3.11.11"
  }
 },
 "nbformat": 4,
 "nbformat_minor": 2
}
